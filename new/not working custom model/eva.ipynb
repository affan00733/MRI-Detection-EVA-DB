{
 "cells": [
  {
   "cell_type": "code",
   "execution_count": 1,
   "metadata": {},
   "outputs": [
    {
     "name": "stdout",
     "output_type": "stream",
     "text": [
      "File ‘00-start-eva-server.ipynb’ already there; not retrieving.\n",
      "\n",
      "nohup eva_server > eva.log 2>&1 &\n",
      "('01-11-2023 00:02:48 WARNING[create_udf_executor:create_udf_executor.py:exec:0042] UDF FastRCNNObjectDetector already exists, nothing added.\\n', '01-11-2023 00:02:48 WARNING[create_udf_executor:create_udf_executor.py:exec:0042] UDF MVITActionRecognition already exists, nothing added.\\n', '01-11-2023 00:02:48 WARNING[create_udf_executor:create_udf_executor.py:exec:0042] UDF Array_Count already exists, nothing added.\\n')\n",
      "('01-11-2023 00:02:48 WARNING[create_udf_executor:create_udf_executor.py:exec:0042] UDF Crop already exists, nothing added.\\n', '01-11-2023 00:02:48 WARNING[create_udf_executor:create_udf_executor.py:exec:0042] UDF DummyObjectDetector already exists, nothing added.\\n', '01-11-2023 00:02:48 WARNING[create_udf_executor:create_udf_executor.py:exec:0042] UDF DummyMultiObjectDetector already exists, nothing added.\\n')\n",
      "('01-11-2023 00:02:48 CRITICAL[server:server.py:start_server:0096] Start Server\\n', \"01-11-2023 00:02:48 CRITICAL[eva_server:eva_server.py:eva:0058] [Errno 48] error while attempting to bind on address ('0.0.0.0', 5432): address already in use\\n\", None)\n",
      "Note: you may need to restart the kernel to use updated packages.\n"
     ]
    }
   ],
   "source": [
    "!wget -nc \"https://raw.githubusercontent.com/georgia-tech-db/eva/master/tutorials/00-start-eva-server.ipynb\"\n",
    "%run 00-start-eva-server.ipynb\n",
    "cursor = connect_to_server()"
   ]
  },
  {
   "cell_type": "code",
   "execution_count": 3,
   "metadata": {},
   "outputs": [
    {
     "name": "stdout",
     "output_type": "stream",
     "text": [
      "@status: ResponseStatus.SUCCESS\n",
      "@batch: \n",
      "                                   0\n",
      "0  Table Successfully dropped: test\n",
      "@query_time: 0.03131404198938981\n",
      "@status: ResponseStatus.SUCCESS\n",
      "@batch: \n",
      "                                                 0\n",
      "0  Video successfully added at location: test.png\n",
      "@query_time: 0.024133584010996856\n",
      "@status: ResponseStatus.SUCCESS\n",
      "@batch: \n",
      "    test.id\n",
      "0        0\n",
      "@query_time: 0.01936524998745881\n"
     ]
    }
   ],
   "source": [
    "cursor.execute(\"DROP TABLE test;\")\n",
    "response = cursor.fetch_all()\n",
    "print(response)\n",
    "cursor.execute(\"LOAD FILE 'test.png' INTO test;\")\n",
    "response = cursor.fetch_all()\n",
    "print(response)\n",
    "cursor.execute(\"\"\"SELECT id FROM test WHERE id < 5\"\"\")\n",
    "response = cursor.fetch_all()\n",
    "print(response)"
   ]
  },
  {
   "cell_type": "code",
   "execution_count": 4,
   "metadata": {},
   "outputs": [
    {
     "name": "stdout",
     "output_type": "stream",
     "text": [
      "@status: ResponseStatus.SUCCESS\n",
      "@batch: \n",
      "                                       0\n",
      "0  UDF CustomModel successfully dropped\n",
      "@query_time: 0.02271308400668204\n",
      "@status: ResponseStatus.SUCCESS\n",
      "@batch: \n",
      "                                                      0\n",
      "0  UDF CustomModel successfully added to the database.\n",
      "@query_time: 0.29801754200889263\n"
     ]
    }
   ],
   "source": [
    "cursor.execute(\"\"\"DROP UDF CustomModel;\"\"\")\n",
    "response = cursor.fetch_all()\n",
    "print(response)\n",
    "\n",
    "cursor.execute(\"\"\"CREATE UDF IF NOT EXISTS \n",
    "                  CustomModel\n",
    "                  INPUT (frame NDARRAY UINT8(3, ANYDIM, ANYDIM)) \n",
    "                  OUTPUT (results NDARRAY FLOAT32(ANYDIM, ANYDIM)) \n",
    "                  TYPE  Classification \n",
    "                  IMPL 'CustomModel.py';\n",
    "        \"\"\")\n",
    "response = cursor.fetch_all()\n",
    "print(response)"
   ]
  },
  {
   "cell_type": "code",
   "execution_count": 5,
   "metadata": {},
   "outputs": [
    {
     "name": "stdout",
     "output_type": "stream",
     "text": [
      "@status: ResponseStatus.FAIL\n",
      "@batch: \n",
      " None\n",
      "@error: expected 5D input (got 4D input)\n"
     ]
    }
   ],
   "source": [
    "cursor.execute(\"\"\"SELECT id, CustomModel(data)\n",
    "                  FROM test WHERE id < 10\"\"\")\n",
    "\n",
    "\n",
    "response = cursor.fetch_all()\n",
    "\n",
    "print(response)"
   ]
  }
 ],
 "metadata": {
  "kernelspec": {
   "display_name": "Python 3",
   "language": "python",
   "name": "python3"
  },
  "language_info": {
   "codemirror_mode": {
    "name": "ipython",
    "version": 3
   },
   "file_extension": ".py",
   "mimetype": "text/x-python",
   "name": "python",
   "nbconvert_exporter": "python",
   "pygments_lexer": "ipython3",
   "version": "3.10.9"
  },
  "orig_nbformat": 4,
  "vscode": {
   "interpreter": {
    "hash": "aee8b7b246df8f9039afb4144a1f6fd8d2ca17a180786b69acc140d282b71a49"
   }
  }
 },
 "nbformat": 4,
 "nbformat_minor": 2
}
