{
 "cells": [
  {
   "cell_type": "code",
   "execution_count": 2,
   "metadata": {},
   "outputs": [
    {
     "name": "stdout",
     "output_type": "stream",
     "text": [
      "File ‘00-start-eva-server.ipynb’ already there; not retrieving.\n",
      "\n",
      "nohup eva_server > eva.log 2>&1 &\n",
      "Note: you may need to restart the kernel to use updated packages.\n"
     ]
    }
   ],
   "source": [
    "!wget -nc \"https://www.dropbox.com/s/2bdx240kfwi7rbb/FLAIR-e10-loss0.680-auc0.624.pth\"\n",
    "!wget -nc \"https://raw.githubusercontent.com/georgia-tech-db/eva/master/tutorials/00-start-eva-server.ipynb\"\n",
    "%run 00-start-eva-server.ipynb\n",
    "cursor = connect_to_server()"
   ]
  },
  {
   "attachments": {},
   "cell_type": "markdown",
   "metadata": {},
   "source": [
    "- unzip EfficientNet-PyTorch-3D"
   ]
  },
  {
   "cell_type": "code",
   "execution_count": 62,
   "metadata": {},
   "outputs": [
    {
     "name": "stdout",
     "output_type": "stream",
     "text": [
      "@status: ResponseStatus.SUCCESS\n",
      "@batch: \n",
      "                                   0\n",
      "0  Table Successfully dropped: test\n",
      "@query_time: 0.022022416989784688\n",
      "@status: ResponseStatus.SUCCESS\n",
      "@batch: \n",
      "                                                  0\n",
      "0  Video successfully added at location: test4.png\n",
      "@query_time: 0.028367499995511025\n",
      "@status: ResponseStatus.SUCCESS\n",
      "@batch: \n",
      "    test.id\n",
      "0        0\n",
      "@query_time: 0.01648204098455608\n"
     ]
    }
   ],
   "source": [
    "cursor.execute(\"DROP TABLE test;\")\n",
    "response = cursor.fetch_all()\n",
    "print(response)\n",
    "cursor.execute(\"LOAD FILE 'test4.png' INTO test;\")\n",
    "response = cursor.fetch_all()\n",
    "print(response)\n",
    "cursor.execute(\"\"\"SELECT id FROM test WHERE id < 5\"\"\")\n",
    "response = cursor.fetch_all()\n",
    "print(response)"
   ]
  },
  {
   "cell_type": "code",
   "execution_count": 63,
   "metadata": {},
   "outputs": [
    {
     "name": "stdout",
     "output_type": "stream",
     "text": [
      "@status: ResponseStatus.SUCCESS\n",
      "@batch: \n",
      "                                       0\n",
      "0  UDF CustomModel successfully dropped\n",
      "@query_time: 0.02026412499253638\n",
      "@status: ResponseStatus.SUCCESS\n",
      "@batch: \n",
      "                                                      0\n",
      "0  UDF CustomModel successfully added to the database.\n",
      "@query_time: 0.12288212499697693\n"
     ]
    }
   ],
   "source": [
    "cursor.execute(\"\"\"DROP UDF CustomModel;\"\"\")\n",
    "response = cursor.fetch_all()\n",
    "print(response)\n",
    "\n",
    "cursor.execute(\"\"\"CREATE UDF IF NOT EXISTS \n",
    "                  CustomModel\n",
    "                  INPUT (frame NDARRAY UINT8(3, ANYDIM, ANYDIM)) \n",
    "                  OUTPUT (results NDARRAY FLOAT32(ANYDIM, ANYDIM)) \n",
    "                  TYPE  Classification \n",
    "                  IMPL 'CustomModel.py';\n",
    "        \"\"\")\n",
    "        \n",
    "response = cursor.fetch_all()\n",
    "print(response)"
   ]
  },
  {
   "cell_type": "code",
   "execution_count": 65,
   "metadata": {},
   "outputs": [
    {
     "name": "stdout",
     "output_type": "stream",
     "text": [
      "@status: ResponseStatus.SUCCESS\n",
      "@batch: \n",
      "    test.id  custommodel.results\n",
      "0        0                    0\n",
      "@query_time: 0.4346799580089282\n"
     ]
    }
   ],
   "source": [
    "cursor.execute(\"\"\"SELECT id, CustomModel(data)\n",
    "                  FROM test WHERE id < 10\"\"\")\n",
    "\n",
    "\n",
    "response = cursor.fetch_all()\n",
    "\n",
    "print(response)"
   ]
  }
 ],
 "metadata": {
  "kernelspec": {
   "display_name": "Python 3",
   "language": "python",
   "name": "python3"
  },
  "language_info": {
   "codemirror_mode": {
    "name": "ipython",
    "version": 3
   },
   "file_extension": ".py",
   "mimetype": "text/x-python",
   "name": "python",
   "nbconvert_exporter": "python",
   "pygments_lexer": "ipython3",
   "version": "3.10.9 (v3.10.9:1dd9be6584, Dec  6 2022, 14:37:36) [Clang 13.0.0 (clang-1300.0.29.30)]"
  },
  "orig_nbformat": 4,
  "vscode": {
   "interpreter": {
    "hash": "aee8b7b246df8f9039afb4144a1f6fd8d2ca17a180786b69acc140d282b71a49"
   }
  }
 },
 "nbformat": 4,
 "nbformat_minor": 2
}
